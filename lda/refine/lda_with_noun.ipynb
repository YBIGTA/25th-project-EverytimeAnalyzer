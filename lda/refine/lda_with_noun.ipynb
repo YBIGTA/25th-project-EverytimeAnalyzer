{
 "cells": [
  {
   "cell_type": "code",
   "execution_count": 8,
   "id": "initial_id",
   "metadata": {
    "collapsed": true,
    "ExecuteTime": {
     "end_time": "2024-08-12T00:28:24.335842Z",
     "start_time": "2024-08-12T00:28:24.332882Z"
    }
   },
   "outputs": [],
   "source": [
    "import pandas as pd\n",
    "from refine_func import *\n"
   ]
  },
  {
   "cell_type": "code",
   "outputs": [],
   "source": [
    "# load data\n",
    "data = pd.read_csv(\"../data/temp.csv\")\n",
    "data.reset_index(inplace=True)"
   ],
   "metadata": {
    "collapsed": false,
    "ExecuteTime": {
     "end_time": "2024-08-12T00:28:24.358651Z",
     "start_time": "2024-08-12T00:28:24.337823Z"
    }
   },
   "id": "be02765ae59bc1de",
   "execution_count": 9
  },
  {
   "cell_type": "code",
   "outputs": [
    {
     "name": "stdout",
     "output_type": "stream",
     "text": [
      "수업: 2471\n",
      "교수: 1912\n",
      "시험: 1761\n",
      "강의: 1715\n",
      "과제: 1317\n",
      "문제: 1302\n",
      "말: 1085\n",
      "수: 1033\n",
      "중간: 806\n",
      "성적: 797\n",
      "내용: 792\n",
      "점: 737\n",
      "학점: 713\n",
      "공부: 690\n",
      "생각: 645\n",
      "안: 586\n",
      "정도: 557\n",
      "학기: 551\n",
      "때: 528\n",
      "시간: 526\n",
      "점수: 502\n",
      "족보: 496\n",
      "정말: 456\n",
      "번: 445\n",
      "추천: 403\n",
      "설명: 372\n",
      "그냥: 365\n",
      "저: 353\n",
      "학생: 349\n",
      "이해: 325\n",
      "질문: 319\n",
      "사람: 304\n",
      "영어: 300\n",
      "퀴즈: 267\n",
      "하나: 265\n",
      "진짜: 264\n",
      "매우: 264\n",
      "평균: 250\n",
      "때문: 249\n",
      "다른: 248\n",
      "출석: 248\n",
      "과목: 245\n",
      "중: 245\n",
      "분: 237\n",
      "거의: 229\n",
      "더: 228\n",
      "주시: 225\n",
      "부분: 224\n",
      "이번: 223\n",
      "개인: 220\n",
      "만점: 216\n",
      "교재: 216\n",
      "그: 215\n",
      "걸: 214\n",
      "후: 213\n",
      "조금: 211\n",
      "전: 211\n",
      "다만: 206\n",
      "풀: 199\n",
      "보고: 198\n",
      "발표: 198\n",
      "기말고사: 196\n",
      "느낌: 196\n",
      "난이도: 196\n",
      "개념: 189\n",
      "부담: 189\n",
      "중간고사: 187\n",
      "자체: 185\n",
      "제: 184\n",
      "본인: 183\n",
      "로드: 178\n",
      "대면: 174\n",
      "처음: 170\n",
      "필기: 166\n",
      "책: 166\n",
      "건: 162\n",
      "꼭: 162\n",
      "모두: 160\n",
      "팀: 160\n",
      "말씀: 154\n",
      "임: 154\n",
      "수강: 152\n",
      "연습: 150\n",
      "꿀강: 148\n",
      "수준: 147\n",
      "주심: 145\n",
      "답: 145\n",
      "꽤: 145\n",
      "도움: 142\n",
      "평가: 140\n",
      "한번: 138\n",
      "복습: 134\n",
      "참여: 134\n",
      "별로: 133\n",
      "무난: 133\n",
      "기준: 133\n",
      "방식: 131\n",
      "노력: 131\n",
      "나: 130\n",
      "못: 129\n"
     ]
    }
   ],
   "source": [
    "# 명사 불용어 처리\n",
    "stopwords = [\"이\", \"거\", \"게\", \"개\", \"심\", \"듯\", \"좀\", \"함\", \"것\"]\n",
    "# 전처리\n",
    "reviewList = data['review'].tolist()\n",
    "tokens: list[list[str]] = extract_pos(reviewList, \"Noun\")\n",
    "tokens = filter_stopword(tokens, stopwords)\n",
    "frequency: dict =  count_frequency(tokens)\n",
    "sorted_frequency = list(sorted(frequency, key=frequency.get, reverse=True))\n",
    "for token in sorted_frequency[:100]:\n",
    "    print(f\"{token}: {frequency[token]}\")\n"
   ],
   "metadata": {
    "collapsed": false,
    "ExecuteTime": {
     "end_time": "2024-08-12T00:28:31.649093Z",
     "start_time": "2024-08-12T00:28:24.359654Z"
    }
   },
   "id": "8cd7ad336214da18",
   "execution_count": 10
  },
  {
   "cell_type": "code",
   "outputs": [
    {
     "name": "stdout",
     "output_type": "stream",
     "text": [
      "['강의 과제 제출 만점 시험 편이 학점 공지 칼', '과제 제출 만점 사실 시험 번 성적 결정 상대평가 시기 때문 득점 중간고사 때 점 기말고사 때 점 뜰 줄 기말고사 제공 연습 문제 제대로 준비 성적 다른 과목 편 교수 이해 강의', '강의 진행 성적 칼 비율 주시 개념 복습 용 과제 아무 부담', '교수 정말 강의 개인 생각 초반 통계학 입문 복습 느낌 통입 해 후반 분산 회귀분석 위주 교수 설명 수업 이해 수 합 로 에쁠 제 수 생각 에쁠 성적 빡빡 시진', '중간고사 통계학 입문 내용 분포 추정 표본 표본 검정 카이 제곱 검정 복습 기말고사 분산분석 선형회귀 분석 계절 내용 연결 성적 칼 불만 일 순 강의 성격 순 적응', '교수 수업 집중 복습 전혀 지장 과제 정도 과제 복습 성적 수 성적 비율 상대평가 주시 분반 별로 성적 산출 참고', '만큼 성적 공부', '통방 대해 공부 학점 나름 수', '중간 말 로 빡세 성적 컷 널널', '수업 저 통입 통입 선수 필수 대해 서도 기본 애 대해 수 교수 예제 분산분석 회귀분석 설명 시작 이해 문제 조금 느낌 수업 중 가끔 동기부여 차원 말씀 나름 전 도움 통방 정종 교수 수업 정말 과제 채점 정말 하나 하나 피드백 중간 말']\n"
     ]
    }
   ],
   "source": [
    "detokenized = deto(tokens)\n",
    "print(detokenized[:10])"
   ],
   "metadata": {
    "collapsed": false,
    "ExecuteTime": {
     "end_time": "2024-08-12T00:28:31.654122Z",
     "start_time": "2024-08-12T00:28:31.649803Z"
    }
   },
   "id": "c2998015ffc80e77",
   "execution_count": 11
  },
  {
   "cell_type": "code",
   "outputs": [
    {
     "name": "stdout",
     "output_type": "stream",
     "text": [
      "shape (2576, 1000)\n"
     ]
    }
   ],
   "source": [
    "from sklearn.feature_extraction.text import TfidfVectorizer\n",
    "vectorizer = TfidfVectorizer(max_features=1000)\n",
    "X = vectorizer.fit_transform(detokenized)\n",
    "print(f\"shape {X.shape}\")\n"
   ],
   "metadata": {
    "collapsed": false,
    "ExecuteTime": {
     "end_time": "2024-08-12T01:07:37.000437Z",
     "start_time": "2024-08-12T01:07:36.943509Z"
    }
   },
   "id": "8bf989a859a8dd13",
   "execution_count": 26
  },
  {
   "cell_type": "code",
   "outputs": [
    {
     "name": "stdout",
     "output_type": "stream",
     "text": [
      "[[ 0.21524847  0.26910974  0.38240097 ...  0.23253751  0.29534642\n",
      "   0.21508151]\n",
      " [ 0.2059427   0.216752    0.26228597 ...  0.21862711  0.29754329\n",
      "   0.21803903]\n",
      " [ 2.93355173  6.83849688  8.25880809 ... 11.18164037  0.90122404\n",
      "   0.82213618]\n",
      " [ 0.22127597  0.25317526  0.21190659 ...  0.3618148   0.21947957\n",
      "   0.25290512]\n",
      " [ 0.21622115  0.49802288  0.21003649 ...  0.23559283  0.21632076\n",
      "   0.2123223 ]\n",
      " [ 0.23370623  0.22149766  0.20515329 ...  0.21092057  0.21791601\n",
      "   5.2106776 ]]\n"
     ]
    }
   ],
   "source": [
    "from sklearn.decomposition import LatentDirichletAllocation\n",
    "lda_model = LatentDirichletAllocation(n_components=6,learning_method='online',random_state=777,max_iter=1)\n",
    "lda_top = lda_model.fit_transform(X)\n",
    "print(lda_model.components_)\n",
    "# print(lda_model.components_.shape) \n"
   ],
   "metadata": {
    "collapsed": false,
    "ExecuteTime": {
     "end_time": "2024-08-12T01:07:38.481386Z",
     "start_time": "2024-08-12T01:07:38.206570Z"
    }
   },
   "id": "bee60cbb4d5de16e",
   "execution_count": 27
  },
  {
   "cell_type": "code",
   "outputs": [
    {
     "name": "stdout",
     "output_type": "stream",
     "text": [
      "Topic 1: [('영화', 13.37), ('졸업', 4.01), ('모형', 2.44), ('감상', 2.1), ('대한', 1.93), ('중구', 1.92), ('난방', 1.91), ('창작', 1.87), ('경험', 1.86), ('추상', 1.84)]\n",
      "Topic 2: [('인공', 8.75), ('종류', 7.3), ('지능', 7.28), ('학점', 5.79), ('진짜', 5.76), ('교수', 3.87), ('코딩', 3.76), ('완전', 3.44), ('티어', 3.4), ('배경', 3.25)]\n",
      "Topic 3: [('수업', 178.23), ('과제', 170.41), ('강의', 135.41), ('시험', 135.24), ('교수', 133.54), ('학점', 96.55), ('문제', 91.42), ('성적', 87.58), ('중간', 77.39), ('내용', 72.93)]\n",
      "Topic 4: [('깊이', 8.2), ('널널', 7.01), ('사랑', 6.64), ('의성', 4.67), ('최악', 4.15), ('무슨', 3.52), ('교수', 3.03), ('성적', 2.97), ('제때', 2.81), ('등록금', 2.79)]\n",
      "Topic 5: [('학점', 20.61), ('교수', 4.83), ('내용', 4.48), ('공대생', 4.35), ('연세대', 4.31), ('강사', 4.18), ('수업', 3.98), ('쁠몰', 3.87), ('추천', 3.76), ('성공', 3.7)]\n",
      "Topic 6: [('교양', 28.97), ('개꿀강', 9.76), ('하라', 8.28), ('의심', 6.17), ('음악', 5.4), ('힐링', 5.21), ('성의', 3.72), ('공부', 3.1), ('교수', 2.68), ('감상문', 2.52)]\n"
     ]
    }
   ],
   "source": [
    "terms = vectorizer.get_feature_names_out()\n",
    "\n",
    "def get_topics(components, feature_names, n=10):\n",
    "    for idx, topic in enumerate(components):\n",
    "        print(\"Topic %d:\" % (idx+1), [(feature_names[i], float(topic[i].round(2))) for i in topic.argsort()[:-n - 1:-1]])\n",
    "        # arr = topic.argsort()[:-n-1: -1]\n",
    "        # print()\n",
    "\n",
    "get_topics(lda_model.components_,terms)\n"
   ],
   "metadata": {
    "collapsed": false,
    "ExecuteTime": {
     "end_time": "2024-08-12T01:07:41.292629Z",
     "start_time": "2024-08-12T01:07:41.283164Z"
    }
   },
   "id": "1999496e64464af7",
   "execution_count": 28
  },
  {
   "cell_type": "code",
   "outputs": [],
   "source": [],
   "metadata": {
    "collapsed": false
   },
   "id": "69fd9a23fe9f3e34"
  }
 ],
 "metadata": {
  "kernelspec": {
   "display_name": "Python 3",
   "language": "python",
   "name": "python3"
  },
  "language_info": {
   "codemirror_mode": {
    "name": "ipython",
    "version": 2
   },
   "file_extension": ".py",
   "mimetype": "text/x-python",
   "name": "python",
   "nbconvert_exporter": "python",
   "pygments_lexer": "ipython2",
   "version": "2.7.6"
  }
 },
 "nbformat": 4,
 "nbformat_minor": 5
}
