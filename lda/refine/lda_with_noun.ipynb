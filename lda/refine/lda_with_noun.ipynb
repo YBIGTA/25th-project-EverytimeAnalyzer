{
 "cells": [
  {
   "cell_type": "code",
   "execution_count": 33,
   "id": "initial_id",
   "metadata": {
    "collapsed": true,
    "ExecuteTime": {
     "end_time": "2024-08-12T11:06:48.563347Z",
     "start_time": "2024-08-12T11:06:48.557836Z"
    }
   },
   "outputs": [],
   "source": [
    "import pandas as pd\n",
    "from refine_func import *\n"
   ]
  },
  {
   "cell_type": "code",
   "outputs": [
    {
     "data": {
      "text/plain": "   index  year semester                                             review  \\\n0      0  2024      1학기  내 인생 최고의 꿀강. 그래서 강철이름만 보고 수강신청을 하였으나,, 다른 교수님도...   \n1      1  2024       여름  고딩 시절 사탐 내신 대비하듯이 하면 됨. 수업 잘 듣고 필기 정리한 다음 기출 구...   \n2      2  2024       여름  너희가 생각한 것보단 꿀강 아닐 가능성이 높다. 중기말 족보만 달달 외우면 된다. ...   \n3      3  2024      1학기                   대 영 이 수강신청만 성공하면 에쁠 받으실 수 있습니다..   \n4      4  2024      1학기  꿀강 대 강철 초합금 강철 족보에서 대부분 출제하십니다. 적보만 통암기해가면 A+ ...   \n\n   score  \n0    100  \n1    100  \n2    100  \n3    100  \n4    100  ",
      "text/html": "<div>\n<style scoped>\n    .dataframe tbody tr th:only-of-type {\n        vertical-align: middle;\n    }\n\n    .dataframe tbody tr th {\n        vertical-align: top;\n    }\n\n    .dataframe thead th {\n        text-align: right;\n    }\n</style>\n<table border=\"1\" class=\"dataframe\">\n  <thead>\n    <tr style=\"text-align: right;\">\n      <th></th>\n      <th>index</th>\n      <th>year</th>\n      <th>semester</th>\n      <th>review</th>\n      <th>score</th>\n    </tr>\n  </thead>\n  <tbody>\n    <tr>\n      <th>0</th>\n      <td>0</td>\n      <td>2024</td>\n      <td>1학기</td>\n      <td>내 인생 최고의 꿀강. 그래서 강철이름만 보고 수강신청을 하였으나,, 다른 교수님도...</td>\n      <td>100</td>\n    </tr>\n    <tr>\n      <th>1</th>\n      <td>1</td>\n      <td>2024</td>\n      <td>여름</td>\n      <td>고딩 시절 사탐 내신 대비하듯이 하면 됨. 수업 잘 듣고 필기 정리한 다음 기출 구...</td>\n      <td>100</td>\n    </tr>\n    <tr>\n      <th>2</th>\n      <td>2</td>\n      <td>2024</td>\n      <td>여름</td>\n      <td>너희가 생각한 것보단 꿀강 아닐 가능성이 높다. 중기말 족보만 달달 외우면 된다. ...</td>\n      <td>100</td>\n    </tr>\n    <tr>\n      <th>3</th>\n      <td>3</td>\n      <td>2024</td>\n      <td>1학기</td>\n      <td>대 영 이 수강신청만 성공하면 에쁠 받으실 수 있습니다..</td>\n      <td>100</td>\n    </tr>\n    <tr>\n      <th>4</th>\n      <td>4</td>\n      <td>2024</td>\n      <td>1학기</td>\n      <td>꿀강 대 강철 초합금 강철 족보에서 대부분 출제하십니다. 적보만 통암기해가면 A+ ...</td>\n      <td>100</td>\n    </tr>\n  </tbody>\n</table>\n</div>"
     },
     "execution_count": 38,
     "metadata": {},
     "output_type": "execute_result"
    }
   ],
   "source": [
    "# load data\n",
    "data = pd.read_csv(\"../data/kyoyang.csv\")\n",
    "data.reset_index(inplace=True)\n",
    "data.head()"
   ],
   "metadata": {
    "collapsed": false,
    "ExecuteTime": {
     "end_time": "2024-08-12T11:08:51.637576Z",
     "start_time": "2024-08-12T11:08:51.591783Z"
    }
   },
   "id": "be02765ae59bc1de",
   "execution_count": 38
  },
  {
   "cell_type": "code",
   "outputs": [
    {
     "name": "stdout",
     "output_type": "stream",
     "text": [
      "수업: 5658\n",
      "교수: 4346\n",
      "시험: 4142\n",
      "강의: 3458\n",
      "과제: 2364\n",
      "말: 2245\n",
      "수: 2095\n",
      "문제: 1768\n",
      "내용: 1655\n",
      "공부: 1550\n",
      "중간: 1548\n",
      "학점: 1455\n",
      "성적: 1414\n",
      "생각: 1382\n",
      "점: 1279\n",
      "시간: 1274\n",
      "안: 1236\n",
      "때: 1166\n",
      "정도: 1121\n",
      "정말: 1115\n",
      "족보: 1071\n",
      "학기: 1068\n",
      "학생: 950\n",
      "그냥: 918\n",
      "점수: 901\n",
      "번: 789\n",
      "진짜: 763\n",
      "추천: 751\n",
      "저: 740\n",
      "사람: 729\n",
      "교양: 686\n",
      "퀴즈: 651\n",
      "하나: 645\n",
      "출석: 600\n",
      "설명: 579\n",
      "부담: 576\n",
      "분: 573\n",
      "책: 542\n",
      "때문: 535\n",
      "전: 520\n",
      "꿀강: 518\n",
      "다른: 513\n",
      "조금: 507\n",
      "그: 481\n",
      "이해: 480\n",
      "매우: 479\n",
      "발표: 472\n",
      "중: 462\n",
      "거의: 456\n",
      "부분: 431\n",
      "보고: 426\n",
      "더: 425\n",
      "질문: 418\n",
      "만점: 410\n",
      "오픈: 410\n",
      "북: 410\n",
      "주시: 409\n",
      "제: 402\n",
      "다만: 399\n",
      "이번: 398\n",
      "과목: 394\n",
      "자체: 388\n",
      "걸: 384\n",
      "꼭: 377\n",
      "개인: 376\n",
      "대면: 375\n",
      "필기: 370\n",
      "본인: 366\n",
      "보고서: 366\n",
      "동영상: 358\n",
      "임: 354\n",
      "대해: 350\n",
      "대한: 339\n",
      "암기: 335\n",
      "영어: 335\n",
      "한번: 331\n",
      "교재: 331\n",
      "수강: 329\n",
      "알: 328\n",
      "느낌: 327\n",
      "기준: 326\n",
      "기말고사: 325\n",
      "중간고사: 323\n",
      "말씀: 315\n",
      "진행: 312\n",
      "관심: 311\n",
      "별로: 310\n",
      "무난: 309\n",
      "건: 309\n",
      "내: 306\n",
      "주심: 306\n",
      "처음: 306\n",
      "제출: 302\n",
      "평가: 298\n",
      "피피티: 296\n",
      "범위: 289\n",
      "답: 287\n",
      "후: 280\n",
      "최고: 279\n",
      "꽤: 279\n"
     ]
    }
   ],
   "source": [
    "# 명사 불용어 처리\n",
    "stopwords = [\"이\", \"거\", \"게\", \"개\", \"심\", \"듯\", \"좀\", \"함\", \"것\"]\n",
    "# 전처리\n",
    "# pandas의 review column -> python list[str]로\n",
    "reviewList = data['review'].tolist()\n",
    "\n",
    "# 명사 품사만 추출\n",
    "tokens: list[list[str]] = extract_pos(reviewList, \"Noun\")\n",
    "\n",
    "# 불용어 제외\n",
    "tokens = filter_stopword(tokens, stopwords)\n",
    "\n",
    "# 단순 참고용으로 top100 빈출 명사 출력\n",
    "frequency: dict =  count_frequency(tokens)\n",
    "sorted_frequency = list(sorted(frequency, key=frequency.get, reverse=True))\n",
    "for token in sorted_frequency[:100]:\n",
    "    print(f\"{token}: {frequency[token]}\")\n"
   ],
   "metadata": {
    "collapsed": false,
    "ExecuteTime": {
     "end_time": "2024-08-12T11:09:16.114491Z",
     "start_time": "2024-08-12T11:08:53.533706Z"
    }
   },
   "id": "8cd7ad336214da18",
   "execution_count": 39
  },
  {
   "cell_type": "code",
   "outputs": [
    {
     "name": "stdout",
     "output_type": "stream",
     "text": [
      "['내 인생 최고 꿀강 강철 이름 보고 수강신청 다른 교수 사실 알 교수', '고딩 시절 사 내신 대비 듯이 수업 필기 정리 다음 기출 구해 회독 무난 변수 거의 안심', '너희 생각 꿀강 가능성 중 말 족보 달달 여기 족보 답 문제 포함 내용 빈칸 느낌 시험 기출 계 약간 변형 여름 문제 중 문제 변형 다만 난 기출 수업 기출 정답 선지 개념 숙지 기출 작품 교수 설명 내용 를 추천 출연 기출 개념 다른 부분 재 수 수업 벼락치기 당신 위해 추천 교수 수업 시간 강조 내용 시험 정말 계절 개꿀 위 관', '영 수강신청 에쁠 수', '꿀강 강철 초 합금 강철 족보 대부분 출제 적보 통 기해 가면 문제 올해 에쁠컷', '최고 강의 수업 꽤 호불호 갈릴 수 전자 출결 중간 강의 안 족보 말 족보 위주 이하 중간 겸 공부 만점 가까이 말 부담 훨', '그냥 무조건 강의 족보 보고 출석 수 강의 내용 꿀강 명강', '갓 말 말 뭐 교수', '데 이유 수업 시험 자체 족보 하루 전 공부 무리 학점 별개 영화 사람 이면 수 수업 임 출석 감점', '꿀강 꿀 강인 이유 사람 말']\n"
     ]
    }
   ],
   "source": [
    "# TfidVectorizeor가 문장을 input으로 받음\n",
    "detokenized = deto(tokens)\n",
    "\n",
    "# detokenized 된거 출력해보기\n",
    "print(detokenized[:10])"
   ],
   "metadata": {
    "collapsed": false,
    "ExecuteTime": {
     "end_time": "2024-08-12T11:15:10.069211Z",
     "start_time": "2024-08-12T11:15:10.053770Z"
    }
   },
   "id": "c2998015ffc80e77",
   "execution_count": 44
  },
  {
   "cell_type": "code",
   "outputs": [
    {
     "name": "stdout",
     "output_type": "stream",
     "text": [
      "shape (6068, 1000)\n"
     ]
    }
   ],
   "source": [
    "# tf-idf 가져오기\n",
    "from sklearn.feature_extraction.text import TfidfVectorizer\n",
    "vectorizer = TfidfVectorizer(max_features=1000)\n",
    "X = vectorizer.fit_transform(detokenized)\n",
    "print(f\"shape {X.shape}\")\n"
   ],
   "metadata": {
    "collapsed": false,
    "ExecuteTime": {
     "end_time": "2024-08-12T11:15:47.457555Z",
     "start_time": "2024-08-12T11:15:47.369907Z"
    }
   },
   "id": "8bf989a859a8dd13",
   "execution_count": 46
  },
  {
   "cell_type": "code",
   "outputs": [
    {
     "name": "stdout",
     "output_type": "stream",
     "text": [
      "[[ 0.16692704  0.16723831  0.16728092 ...  0.16855311  0.22369211\n",
      "   0.16901206]\n",
      " [ 0.16729773  0.17056714  0.1668648  ...  0.16765973  0.28797839\n",
      "   0.16734929]\n",
      " [28.63520544 38.71878676  5.21872113 ... 27.38776971  4.86646159\n",
      "   6.70730806]\n",
      " [ 0.16737492  0.16830383  0.16707033 ...  0.16841237  0.17056724\n",
      "   0.17031618]\n",
      " [ 0.16705142  0.16959665  0.16744009 ...  0.1696372   0.18972058\n",
      "   0.16992334]\n",
      " [ 0.17084737  0.16782471  0.16704525 ...  0.17050553  0.16775008\n",
      "   8.18589516]]\n"
     ]
    }
   ],
   "source": [
    "# LDA\n",
    "from sklearn.decomposition import LatentDirichletAllocation\n",
    "lda_model = LatentDirichletAllocation(n_components=6,learning_method='online',random_state=777,max_iter=3)\n",
    "lda_top = lda_model.fit_transform(X)\n",
    "print(lda_model.components_)\n",
    "# print(lda_model.components_.shape) \n"
   ],
   "metadata": {
    "collapsed": false,
    "ExecuteTime": {
     "end_time": "2024-08-12T11:15:50.886626Z",
     "start_time": "2024-08-12T11:15:49.681375Z"
    }
   },
   "id": "bee60cbb4d5de16e",
   "execution_count": 47
  },
  {
   "cell_type": "code",
   "outputs": [
    {
     "name": "stdout",
     "output_type": "stream",
     "text": [
      "Topic 1: [('테뱅', 20.43), ('문과', 18.85), ('쁠몰', 18.4), ('중국어', 16.73), ('편이', 11.96), ('강추', 10.5), ('동강', 9.48), ('여우', 9.15), ('커트라인', 8.11), ('노베', 7.84)]\n",
      "Topic 2: [('수학', 42.89), ('통입', 31.8), ('재수강', 29.65), ('무조건', 28.74), ('회계', 28.37), ('독학', 26.3), ('에마', 15.72), ('족보', 15.67), ('빡센', 14.97), ('물리', 13.76)]\n",
      "Topic 3: [('수업', 334.48), ('시험', 286.89), ('교수', 257.62), ('강의', 252.3), ('문제', 196.1), ('과제', 192.22), ('중간', 165.57), ('내용', 159.81), ('공부', 154.14), ('학점', 134.7)]\n",
      "Topic 4: [('하라', 18.11), ('김숙경', 17.96), ('보장', 14.46), ('인품', 13.97), ('기량', 11.84), ('라틴어', 11.31), ('러시아', 10.79), ('편입', 9.45), ('통계학', 9.15), ('통입', 8.7)]\n",
      "Topic 5: [('사랑', 28.15), ('어려움', 21.87), ('에쁠', 19.24), ('제발', 17.9), ('비쁠', 15.09), ('최악', 15.07), ('진심', 14.36), ('강철', 10.89), ('제공', 10.76), ('인간', 10.32)]\n",
      "Topic 6: [('교수', 135.59), ('수업', 133.23), ('학점', 122.65), ('강의', 122.29), ('시험', 92.53), ('성적', 81.04), ('과제', 72.99), ('공부', 69.43), ('정말', 65.06), ('진짜', 51.06)]\n"
     ]
    }
   ],
   "source": [
    "terms = vectorizer.get_feature_names_out()\n",
    "\n",
    "def get_topics(components, feature_names, n=10):\n",
    "    for idx, topic in enumerate(components):\n",
    "        print(\"Topic %d:\" % (idx+1), [(feature_names[i], float(topic[i].round(2))) for i in topic.argsort()[:-n - 1:-1]])\n",
    "\n",
    "get_topics(lda_model.components_,terms)\n"
   ],
   "metadata": {
    "collapsed": false,
    "ExecuteTime": {
     "end_time": "2024-08-12T11:17:22.699151Z",
     "start_time": "2024-08-12T11:17:22.691833Z"
    }
   },
   "id": "1999496e64464af7",
   "execution_count": 49
  }
 ],
 "metadata": {
  "kernelspec": {
   "display_name": "Python 3",
   "language": "python",
   "name": "python3"
  },
  "language_info": {
   "codemirror_mode": {
    "name": "ipython",
    "version": 2
   },
   "file_extension": ".py",
   "mimetype": "text/x-python",
   "name": "python",
   "nbconvert_exporter": "python",
   "pygments_lexer": "ipython2",
   "version": "2.7.6"
  }
 },
 "nbformat": 4,
 "nbformat_minor": 5
}
