{
 "cells": [
  {
   "cell_type": "code",
   "execution_count": 4,
   "id": "initial_id",
   "metadata": {
    "collapsed": true,
    "ExecuteTime": {
     "end_time": "2024-08-12T00:51:59.741216Z",
     "start_time": "2024-08-12T00:51:59.246103Z"
    }
   },
   "outputs": [],
   "source": [
    "import pandas as pd\n",
    "from konlpy.tag import Okt\n",
    "from _collections import defaultdict\n",
    "from refine_func import *"
   ]
  },
  {
   "cell_type": "code",
   "outputs": [],
   "source": [
    "# with open(\"../data/korean-stopword.txt\", \"r\") as f:\n",
    "#     stopwords = list(map(lambda s: s.strip(), f.readlines()))\n",
    "# print(stopwords)"
   ],
   "metadata": {
    "collapsed": false,
    "ExecuteTime": {
     "end_time": "2024-08-12T00:51:59.743722Z",
     "start_time": "2024-08-12T00:51:59.742125Z"
    }
   },
   "id": "e6837894e6fe573b",
   "execution_count": 5
  },
  {
   "cell_type": "code",
   "outputs": [],
   "source": [
    "# 테스트 데이터 로드 밑 전체적 구조 출력\n",
    "data = pd.read_csv(\"../data/temp.csv\")\n",
    "data.reset_index(inplace=True)\n",
    "# print(\"===columns===\")\n",
    "# print(data.columns.values)\n",
    "# data.head(30)\n"
   ],
   "metadata": {
    "collapsed": false,
    "ExecuteTime": {
     "end_time": "2024-08-12T00:51:59.762432Z",
     "start_time": "2024-08-12T00:51:59.744323Z"
    }
   },
   "id": "d8f8b26824ded862",
   "execution_count": 6
  },
  {
   "cell_type": "code",
   "outputs": [
    {
     "name": "stdout",
     "output_type": "stream",
     "text": [
      "수업: 2471\n",
      "교수: 1912\n",
      "시험: 1761\n",
      "강의: 1715\n",
      "과제: 1317\n",
      "문제: 1302\n",
      "말: 1085\n",
      "수: 1033\n",
      "중간: 806\n",
      "성적: 797\n",
      "내용: 792\n",
      "점: 737\n",
      "학점: 713\n",
      "공부: 690\n",
      "생각: 645\n",
      "안: 586\n",
      "정도: 557\n",
      "학기: 551\n",
      "때: 528\n",
      "시간: 526\n",
      "점수: 502\n",
      "족보: 496\n",
      "정말: 456\n",
      "번: 445\n",
      "추천: 403\n",
      "설명: 372\n",
      "그냥: 365\n",
      "저: 353\n",
      "학생: 349\n",
      "이해: 325\n",
      "질문: 319\n",
      "사람: 304\n",
      "영어: 300\n",
      "퀴즈: 267\n",
      "하나: 265\n",
      "진짜: 264\n",
      "매우: 264\n",
      "평균: 250\n",
      "때문: 249\n",
      "다른: 248\n",
      "출석: 248\n",
      "과목: 245\n",
      "중: 245\n",
      "분: 237\n",
      "거의: 229\n",
      "더: 228\n",
      "주시: 225\n",
      "부분: 224\n",
      "이번: 223\n",
      "개인: 220\n",
      "만점: 216\n",
      "교재: 216\n",
      "그: 215\n",
      "걸: 214\n",
      "후: 213\n",
      "조금: 211\n",
      "전: 211\n",
      "다만: 206\n",
      "풀: 199\n",
      "보고: 198\n",
      "발표: 198\n",
      "기말고사: 196\n",
      "느낌: 196\n",
      "난이도: 196\n",
      "개념: 189\n",
      "부담: 189\n",
      "중간고사: 187\n",
      "자체: 185\n",
      "제: 184\n",
      "본인: 183\n",
      "로드: 178\n",
      "대면: 174\n",
      "처음: 170\n",
      "필기: 166\n",
      "책: 166\n",
      "건: 162\n",
      "꼭: 162\n",
      "모두: 160\n",
      "팀: 160\n",
      "말씀: 154\n",
      "임: 154\n",
      "수강: 152\n",
      "연습: 150\n",
      "꿀강: 148\n",
      "수준: 147\n",
      "주심: 145\n",
      "답: 145\n",
      "꽤: 145\n",
      "도움: 142\n",
      "평가: 140\n",
      "한번: 138\n",
      "복습: 134\n",
      "참여: 134\n",
      "별로: 133\n",
      "무난: 133\n",
      "기준: 133\n",
      "방식: 131\n",
      "노력: 131\n",
      "나: 130\n",
      "못: 129\n"
     ]
    }
   ],
   "source": [
    "# 명사 불용어 처리\n",
    "stopwords = [\"이\", \"거\", \"게\", \"개\", \"심\", \"듯\", \"좀\", \"함\", \"것\"]\n",
    "# 전처리\n",
    "reviewList = data['review'].tolist()\n",
    "tokens: list[list[str]] = extract_pos(reviewList, \"Noun\")\n",
    "tokens = filter_stopword(tokens, stopwords)\n",
    "frequency: dict =  count_frequency(tokens)\n",
    "sorted_frequency = list(sorted(frequency, key=frequency.get, reverse=True))\n",
    "for token in sorted_frequency[:100]:\n",
    "    print(f\"{token}: {frequency[token]}\")\n"
   ],
   "metadata": {
    "collapsed": false,
    "ExecuteTime": {
     "end_time": "2024-08-12T00:52:09.999281Z",
     "start_time": "2024-08-12T00:51:59.763808Z"
    }
   },
   "id": "528b5af5b587f851",
   "execution_count": 7
  },
  {
   "cell_type": "code",
   "outputs": [
    {
     "name": "stdout",
     "output_type": "stream",
     "text": [
      "잘: 1176\n",
      "할: 593\n",
      "하면: 554\n",
      "하는: 552\n",
      "합니다: 432\n",
      "해서: 425\n",
      "한: 351\n",
      "보면: 216\n",
      "했는데: 213\n",
      "하게: 209\n",
      "듣고: 208\n",
      "해야: 182\n",
      "하시는: 159\n",
      "하시고: 157\n",
      "하기: 156\n",
      "됩니다: 155\n",
      "쉽게: 150\n",
      "하고: 148\n",
      "해: 148\n",
      "됨: 146\n",
      "받아: 144\n",
      "되는: 142\n",
      "하지: 142\n",
      "들을: 136\n",
      "받을: 134\n",
      "풀어: 125\n",
      "받았습니다: 115\n",
      "큰: 113\n",
      "한다: 111\n",
      "된: 106\n",
      "하셔서: 105\n",
      "듣는: 105\n",
      "들어: 105\n",
      "않고: 103\n",
      "하는데: 102\n",
      "될: 100\n",
      "해주셔서: 99\n",
      "했습니다: 98\n",
      "갑니다: 96\n",
      "들: 95\n",
      "나옴: 92\n",
      "나오는: 90\n",
      "갈: 90\n",
      "들으면: 89\n",
      "보니: 82\n",
      "하다: 79\n",
      "주십니다: 77\n",
      "하면서: 77\n",
      "들으세요: 77\n",
      "드립니다: 77\n",
      "이었습니다: 77\n",
      "하신: 76\n",
      "들었는데: 75\n",
      "받고: 74\n",
      "보는: 74\n",
      "들은: 74\n",
      "받음: 72\n",
      "해도: 70\n",
      "나와서: 70\n",
      "하시면: 69\n",
      "배운: 68\n",
      "출: 68\n",
      "하는게: 68\n",
      "하세요: 68\n",
      "했지만: 68\n",
      "가: 67\n",
      "는: 66\n",
      "하십니다: 65\n",
      "배우는: 65\n",
      "되고: 62\n",
      "였습니다: 62\n",
      "않음: 61\n",
      "듣지: 57\n",
      "된다: 56\n",
      "하시는데: 54\n",
      "않은: 53\n",
      "한다면: 53\n",
      "나옵니다: 52\n",
      "해주시고: 52\n",
      "비해: 51\n",
      "쓰면: 50\n",
      "나올: 49\n",
      "되는데: 49\n",
      "읽고: 49\n",
      "않습니다: 49\n",
      "해주십니다: 48\n",
      "마세요: 47\n",
      "주셔서: 46\n",
      "싶은: 46\n",
      "않아서: 45\n",
      "이었는데: 45\n",
      "들었습니다: 44\n",
      "하시길: 43\n",
      "끝나고: 43\n",
      "했고: 43\n",
      "않는: 43\n",
      "않았습니다: 43\n",
      "푸는: 41\n",
      "나왔습니다: 41\n",
      "하실: 41\n"
     ]
    }
   ],
   "source": [
    "\n",
    "# 전처리\n",
    "reviewList = data['review'].tolist()\n",
    "tokens: list[list[str]] = extract_pos(reviewList, \"Verb\")\n",
    "tokens = filter_stopword(tokens, stopwords)\n",
    "frequency: dict =  count_frequency(tokens)\n",
    "sorted_frequency = list(sorted(frequency, key=frequency.get, reverse=True))\n",
    "for token in sorted_frequency[:100]:\n",
    "    print(f\"{token}: {frequency[token]}\")\n"
   ],
   "metadata": {
    "collapsed": false,
    "ExecuteTime": {
     "end_time": "2024-08-12T00:52:17.847181Z",
     "start_time": "2024-08-12T00:52:09.999927Z"
    }
   },
   "id": "495f7cad8f69f51f",
   "execution_count": 8
  },
  {
   "cell_type": "code",
   "outputs": [
    {
     "name": "stdout",
     "output_type": "stream",
     "text": [
      "190112\n",
      "defaultdict(<class 'int'>, {'Noun': 79261, 'Suffix': 5522, 'Adjective': 14954, 'Josa': 30903, 'Verb': 28172, 'Adverb': 4468, 'Determiner': 668, 'Punctuation': 14522, 'Number': 3156, 'Modifier': 2826, 'Alpha': 2907, 'VerbPrefix': 966, 'Conjunction': 608, 'KoreanParticle': 506, 'PreEomi': 14, 'Foreign': 339, 'Exclamation': 239, 'Eomi': 81})\n"
     ]
    }
   ],
   "source": [
    "# 품사별 빈도수 체크 \n",
    "okt = Okt()\n",
    "\n",
    "# 데이터 가져오기\n",
    "reviewList = data['review'].tolist()\n",
    "\n",
    "# 품사 분류\n",
    "step1: list[list[[str]]] = []\n",
    "for review in reviewList:\n",
    "    tmp = okt.pos(review)\n",
    "    tmp = list(map(lambda t: t[1], tmp))\n",
    "    step1.append(tmp)\n",
    "\n",
    "flatten: list[[str]] = sum(step1, [])\n",
    "print(len(flatten))\n",
    "\n",
    "# 품사 빈도 체크\n",
    "frequency = defaultdict(int)\n",
    "for pos in flatten:\n",
    "    frequency[pos] += 1\n",
    "    \n",
    "print(frequency)\n"
   ],
   "metadata": {
    "collapsed": false,
    "ExecuteTime": {
     "end_time": "2024-08-12T01:04:11.460359Z",
     "start_time": "2024-08-12T01:04:02.726194Z"
    }
   },
   "id": "8e35bef6d762c701",
   "execution_count": 11
  },
  {
   "cell_type": "code",
   "outputs": [],
   "source": [],
   "metadata": {
    "collapsed": false
   },
   "id": "3f9685fbc1a1823c"
  }
 ],
 "metadata": {
  "kernelspec": {
   "display_name": "Python 3",
   "language": "python",
   "name": "python3"
  },
  "language_info": {
   "codemirror_mode": {
    "name": "ipython",
    "version": 2
   },
   "file_extension": ".py",
   "mimetype": "text/x-python",
   "name": "python",
   "nbconvert_exporter": "python",
   "pygments_lexer": "ipython2",
   "version": "2.7.6"
  }
 },
 "nbformat": 4,
 "nbformat_minor": 5
}
