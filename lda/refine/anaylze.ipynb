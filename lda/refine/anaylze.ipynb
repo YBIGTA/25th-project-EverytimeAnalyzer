{
 "cells": [
  {
   "cell_type": "code",
   "execution_count": 16,
   "id": "initial_id",
   "metadata": {
    "collapsed": true,
    "ExecuteTime": {
     "end_time": "2024-08-12T11:17:34.731836Z",
     "start_time": "2024-08-12T11:17:34.726894Z"
    }
   },
   "outputs": [],
   "source": [
    "import pandas as pd\n",
    "from konlpy.tag import Okt\n",
    "from _collections import defaultdict\n",
    "from refine_func import *"
   ]
  },
  {
   "cell_type": "markdown",
   "source": [
    "### 불용어 제거 및 빈출 단어들 파악을 하려고 짠 코드입니다.ㅠㅠ"
   ],
   "metadata": {
    "collapsed": false
   },
   "id": "6e07ecb615fb67aa"
  },
  {
   "cell_type": "code",
   "outputs": [],
   "source": [
    "# 테스트 데이터 로드 밑 전체적 구조 출력\n",
    "data = pd.read_csv(\"../data/kyoyang.csv\")\n",
    "data.reset_index(inplace=True)\n",
    "print(\"===columns===\")\n",
    "print(data.columns.values)\n",
    "data.head(30)"
   ],
   "metadata": {
    "collapsed": false,
    "ExecuteTime": {
     "end_time": "2024-08-12T11:17:34.791114Z",
     "start_time": "2024-08-12T11:17:34.743312Z"
    }
   },
   "id": "d8f8b26824ded862",
   "execution_count": 18
  },
  {
   "cell_type": "code",
   "outputs": [
    {
     "name": "stdout",
     "output_type": "stream",
     "text": [
      "수업: 5658\n",
      "교수: 4346\n",
      "시험: 4142\n",
      "강의: 3458\n",
      "것: 2916\n",
      "과제: 2364\n",
      "말: 2245\n",
      "수: 2095\n",
      "문제: 1768\n",
      "내용: 1655\n",
      "공부: 1550\n",
      "중간: 1548\n",
      "학점: 1455\n",
      "성적: 1414\n",
      "생각: 1382\n",
      "점: 1279\n",
      "시간: 1274\n",
      "안: 1236\n",
      "때: 1166\n",
      "정도: 1121\n",
      "정말: 1115\n",
      "족보: 1071\n",
      "학기: 1068\n",
      "거: 974\n",
      "학생: 950\n",
      "그냥: 918\n",
      "이: 914\n",
      "점수: 901\n",
      "좀: 892\n",
      "번: 789\n",
      "진짜: 763\n",
      "추천: 751\n",
      "저: 740\n",
      "사람: 729\n",
      "교양: 686\n",
      "퀴즈: 651\n",
      "하나: 645\n",
      "출석: 600\n",
      "함: 589\n",
      "설명: 579\n",
      "부담: 576\n",
      "분: 573\n",
      "책: 542\n",
      "때문: 535\n",
      "전: 520\n",
      "꿀강: 518\n",
      "다른: 513\n",
      "조금: 507\n",
      "개: 505\n",
      "게: 501\n",
      "그: 481\n",
      "이해: 480\n",
      "매우: 479\n",
      "듯: 474\n",
      "발표: 472\n",
      "중: 462\n",
      "거의: 456\n",
      "부분: 431\n",
      "보고: 426\n",
      "더: 425\n",
      "질문: 418\n",
      "만점: 410\n",
      "오픈: 410\n",
      "북: 410\n",
      "주시: 409\n",
      "제: 402\n",
      "다만: 399\n",
      "이번: 398\n",
      "과목: 394\n",
      "자체: 388\n",
      "걸: 384\n",
      "꼭: 377\n",
      "개인: 376\n",
      "대면: 375\n",
      "필기: 370\n",
      "본인: 366\n",
      "보고서: 366\n",
      "동영상: 358\n",
      "임: 354\n",
      "심: 350\n",
      "대해: 350\n",
      "대한: 339\n",
      "암기: 335\n",
      "영어: 335\n",
      "한번: 331\n",
      "교재: 331\n",
      "수강: 329\n",
      "알: 328\n",
      "느낌: 327\n",
      "기준: 326\n",
      "기말고사: 325\n",
      "중간고사: 323\n",
      "말씀: 315\n",
      "진행: 312\n",
      "관심: 311\n",
      "별로: 310\n",
      "무난: 309\n",
      "건: 309\n",
      "내: 306\n",
      "주심: 306\n"
     ]
    }
   ],
   "source": [
    "# 명사들중 빈출 단어 보여주기\n",
    "reviewList = data['review'].tolist()\n",
    "tokens: list[list[str]] = extract_pos(reviewList, \"Noun\")\n",
    "frequency: dict = count_frequency(tokens)\n",
    "sorted_frequency = list(sorted(frequency, key=frequency.get, reverse=True))\n",
    "for token in sorted_frequency[:100]:\n",
    "    print(f\"{token}: {frequency[token]}\")\n"
   ],
   "metadata": {
    "collapsed": false,
    "ExecuteTime": {
     "end_time": "2024-08-12T11:19:22.927005Z",
     "start_time": "2024-08-12T11:19:02.528860Z"
    }
   },
   "id": "528b5af5b587f851",
   "execution_count": 23
  },
  {
   "cell_type": "code",
   "outputs": [
    {
     "name": "stdout",
     "output_type": "stream",
     "text": [
      "잘: 2392\n",
      "하면: 1263\n",
      "할: 1105\n",
      "하는: 1041\n",
      "합니다: 859\n",
      "해서: 838\n",
      "한: 829\n",
      "듣고: 540\n",
      "했는데: 481\n",
      "하고: 413\n",
      "보면: 412\n",
      "하게: 389\n",
      "해야: 365\n",
      "하시는: 360\n",
      "됨: 358\n",
      "하기: 327\n",
      "들을: 316\n",
      "받아: 315\n",
      "받을: 308\n",
      "됩니다: 306\n",
      "되는: 305\n",
      "하지: 271\n",
      "해: 269\n",
      "하시고: 265\n",
      "않고: 258\n",
      "출: 255\n",
      "들으면: 253\n",
      "쉽게: 251\n",
      "들으세요: 251\n",
      "하는데: 250\n",
      "듣는: 239\n",
      "들어: 235\n",
      "된: 231\n",
      "했습니다: 227\n",
      "나옴: 217\n",
      "들: 213\n",
      "나오는: 207\n",
      "큰: 204\n",
      "듣지: 196\n",
      "될: 195\n",
      "해주셔서: 195\n",
      "갑니다: 185\n",
      "이었습니다: 185\n",
      "갈: 178\n",
      "하시면: 178\n",
      "받았습니다: 177\n",
      "읽고: 176\n",
      "들은: 173\n",
      "하셔서: 172\n",
      "마세요: 168\n",
      "않음: 166\n",
      "하세요: 163\n",
      "하면서: 162\n",
      "되고: 159\n",
      "받음: 158\n",
      "않습니다: 157\n",
      "해도: 154\n",
      "했지만: 152\n",
      "주십니다: 150\n",
      "하신: 149\n",
      "받고: 149\n",
      "한다: 148\n",
      "쓰는: 146\n",
      "보니: 141\n",
      "들어도: 141\n",
      "나와서: 139\n",
      "배우는: 130\n",
      "튀: 129\n",
      "보는: 129\n",
      "하십니다: 127\n",
      "쓰면: 125\n",
      "배운: 123\n",
      "들었습니다: 118\n",
      "들었는데: 117\n",
      "드립니다: 117\n",
      "배울: 116\n",
      "해요: 116\n",
      "비추: 115\n",
      "는: 112\n",
      "하다: 112\n",
      "않은: 112\n",
      "나옵니다: 110\n",
      "해주십니다: 110\n",
      "했고: 107\n",
      "하는게: 106\n",
      "된다: 104\n",
      "쉽고: 104\n",
      "해주시고: 101\n",
      "였습니다: 100\n",
      "하시는데: 100\n",
      "풀어: 99\n",
      "외우면: 98\n",
      "않아서: 97\n",
      "싶은: 96\n",
      "받기: 96\n",
      "이었는데: 94\n",
      "했던: 93\n",
      "들으면서: 93\n",
      "주셔서: 91\n",
      "한다면: 90\n"
     ]
    }
   ],
   "source": [
    "\n",
    "# 동사들중 빈출 단어 보여주기\n",
    "reviewList = data['review'].tolist()\n",
    "tokens: list[list[str]] = extract_pos(reviewList, \"Verb\")\n",
    "frequency: dict = count_frequency(tokens)\n",
    "sorted_frequency = list(sorted(frequency, key=frequency.get, reverse=True))\n",
    "for token in sorted_frequency[:100]:\n",
    "    print(f\"{token}: {frequency[token]}\")\n"
   ],
   "metadata": {
    "collapsed": false,
    "ExecuteTime": {
     "end_time": "2024-08-12T11:19:46.518387Z",
     "start_time": "2024-08-12T11:19:26.472547Z"
    }
   },
   "id": "495f7cad8f69f51f",
   "execution_count": 24
  },
  {
   "cell_type": "code",
   "outputs": [
    {
     "name": "stdout",
     "output_type": "stream",
     "text": [
      "396427\n",
      "defaultdict(<class 'int'>, {'Noun': 166033, 'Josa': 63757, 'Punctuation': 29617, 'Adverb': 10063, 'Verb': 59664, 'Suffix': 11330, 'Adjective': 32563, 'Modifier': 5806, 'Number': 5539, 'Foreign': 750, 'Alpha': 4745, 'Eomi': 228, 'VerbPrefix': 2024, 'KoreanParticle': 1179, 'Determiner': 1454, 'Conjunction': 1247, 'Exclamation': 389, 'PreEomi': 39})\n"
     ]
    }
   ],
   "source": [
    "# 품사별 빈도수 체크 \n",
    "okt = Okt()\n",
    "# 데이터 가져오기\n",
    "reviewList = data['review'].tolist()\n",
    "# 품사 분류\n",
    "step1: list[list[[str]]] = []\n",
    "for review in reviewList:\n",
    "    tmp = okt.pos(review)\n",
    "    tmp = list(map(lambda t: t[1], tmp))\n",
    "    step1.append(tmp)\n",
    "flatten: list[[str]] = sum(step1, [])\n",
    "print(len(flatten))\n",
    "\n",
    "# 품사 빈도 체크\n",
    "frequency = defaultdict(int)\n",
    "for pos in flatten:\n",
    "    frequency[pos] += 1\n",
    "\n",
    "print(frequency)\n"
   ],
   "metadata": {
    "collapsed": false,
    "ExecuteTime": {
     "end_time": "2024-08-12T11:20:11.748669Z",
     "start_time": "2024-08-12T11:19:48.243012Z"
    }
   },
   "id": "8e35bef6d762c701",
   "execution_count": 25
  },
  {
   "cell_type": "code",
   "outputs": [],
   "source": [],
   "metadata": {
    "collapsed": false,
    "ExecuteTime": {
     "end_time": "2024-08-12T11:18:39.494773Z",
     "start_time": "2024-08-12T11:18:39.493517Z"
    }
   },
   "id": "3f9685fbc1a1823c",
   "execution_count": 21
  }
 ],
 "metadata": {
  "kernelspec": {
   "display_name": "Python 3",
   "language": "python",
   "name": "python3"
  },
  "language_info": {
   "codemirror_mode": {
    "name": "ipython",
    "version": 2
   },
   "file_extension": ".py",
   "mimetype": "text/x-python",
   "name": "python",
   "nbconvert_exporter": "python",
   "pygments_lexer": "ipython2",
   "version": "2.7.6"
  }
 },
 "nbformat": 4,
 "nbformat_minor": 5
}
