{
  "cells": [
    {
      "cell_type": "markdown",
      "metadata": {},
      "source": [
        "### 학습 데이터 전처리"
      ]
    },
    {
      "cell_type": "code",
      "execution_count": 2,
      "metadata": {
        "id": "UGcvprXYDOzc"
      },
      "outputs": [],
      "source": [
        "import pandas as pd\n",
        "import numpy as np\n",
        "\n",
        "file_path = '/Users/jieunpark/Desktop/25th-project-EverytimeAnalyzer/ds/topic_modeling/src/data/embedded.csv'"
      ]
    },
    {
      "cell_type": "code",
      "execution_count": 5,
      "metadata": {
        "colab": {
          "base_uri": "https://localhost:8080/",
          "height": 206
        },
        "id": "6oQ7Yp5-OVI8",
        "outputId": "7cae9f0d-cfa8-49bb-b7ee-14fcb81d6173"
      },
      "outputs": [
        {
          "data": {
            "text/html": [
              "<div>\n",
              "<style scoped>\n",
              "    .dataframe tbody tr th:only-of-type {\n",
              "        vertical-align: middle;\n",
              "    }\n",
              "\n",
              "    .dataframe tbody tr th {\n",
              "        vertical-align: top;\n",
              "    }\n",
              "\n",
              "    .dataframe thead th {\n",
              "        text-align: right;\n",
              "    }\n",
              "</style>\n",
              "<table border=\"1\" class=\"dataframe\">\n",
              "  <thead>\n",
              "    <tr style=\"text-align: right;\">\n",
              "      <th></th>\n",
              "      <th>review</th>\n",
              "      <th>topic</th>\n",
              "      <th>embedding</th>\n",
              "    </tr>\n",
              "  </thead>\n",
              "  <tbody>\n",
              "    <tr>\n",
              "      <th>0</th>\n",
              "      <td>수업 운영이 주먹구구식입니다.</td>\n",
              "      <td>교수님 강의스타일 및 강의력</td>\n",
              "      <td>[-7.87042439e-01  7.31145322e-01  1.95688337e-...</td>\n",
              "    </tr>\n",
              "    <tr>\n",
              "      <th>1</th>\n",
              "      <td>중요 과제 공지도 사흘 전에 기말 과제가 계획에 있다가도 사라지고 강의도 머신러닝 ...</td>\n",
              "      <td>로드</td>\n",
              "      <td>[-3.72840673e-01  2.14865059e-01 -3.87998261e-...</td>\n",
              "    </tr>\n",
              "    <tr>\n",
              "      <th>2</th>\n",
              "      <td>본인이 따로 알아보고 찾아봐야 이해에 도움이 될 겁니다.</td>\n",
              "      <td>로드</td>\n",
              "      <td>[ 1.97239473e-01 -7.09244251e-01 -1.92977898e-...</td>\n",
              "    </tr>\n",
              "    <tr>\n",
              "      <th>3</th>\n",
              "      <td>다만 교수님은 좋으십니다.</td>\n",
              "      <td>교수님 강의스타일 및 강의력</td>\n",
              "      <td>[-6.28514886e-01  4.23117168e-02 -7.64399171e-...</td>\n",
              "    </tr>\n",
              "    <tr>\n",
              "      <th>4</th>\n",
              "      <td>무난합니딘, 성적도 잘 주는 것 같아요.</td>\n",
              "      <td>학점</td>\n",
              "      <td>[-2.25575939e-01 -8.20995346e-02 -3.75468403e-...</td>\n",
              "    </tr>\n",
              "  </tbody>\n",
              "</table>\n",
              "</div>"
            ],
            "text/plain": [
              "                                              review            topic  \\\n",
              "0                                   수업 운영이 주먹구구식입니다.  교수님 강의스타일 및 강의력   \n",
              "1  중요 과제 공지도 사흘 전에 기말 과제가 계획에 있다가도 사라지고 강의도 머신러닝 ...               로드   \n",
              "2                    본인이 따로 알아보고 찾아봐야 이해에 도움이 될 겁니다.               로드   \n",
              "3                                     다만 교수님은 좋으십니다.  교수님 강의스타일 및 강의력   \n",
              "4                             무난합니딘, 성적도 잘 주는 것 같아요.               학점   \n",
              "\n",
              "                                           embedding  \n",
              "0  [-7.87042439e-01  7.31145322e-01  1.95688337e-...  \n",
              "1  [-3.72840673e-01  2.14865059e-01 -3.87998261e-...  \n",
              "2  [ 1.97239473e-01 -7.09244251e-01 -1.92977898e-...  \n",
              "3  [-6.28514886e-01  4.23117168e-02 -7.64399171e-...  \n",
              "4  [-2.25575939e-01 -8.20995346e-02 -3.75468403e-...  "
            ]
          },
          "execution_count": 5,
          "metadata": {},
          "output_type": "execute_result"
        }
      ],
      "source": [
        "df = pd.read_csv(file_path, index_col=0)\n",
        "df.head()"
      ]
    },
    {
      "cell_type": "code",
      "execution_count": 7,
      "metadata": {},
      "outputs": [
        {
          "name": "stdout",
          "output_type": "stream",
          "text": [
            "원본 데이터 개수: 4992\n"
          ]
        }
      ],
      "source": [
        "print(f\"원본 데이터 개수: {df.shape[0]}\")"
      ]
    },
    {
      "cell_type": "code",
      "execution_count": 9,
      "metadata": {},
      "outputs": [
        {
          "name": "stdout",
          "output_type": "stream",
          "text": [
            "카테고리 부여 잘못된 데이터 제거 후 남은 데이터 개수: 4969\n"
          ]
        }
      ],
      "source": [
        "# 카테고리 잘못 생성된 데이터 제거\n",
        "df = df[df[\"topic\"].isin([\"로드\", \"수업 내용\", \"시험 출제 스타일\", \"해당 사항 없음\", \"학점\", \"교수님 강의스타일 및 강의력\"])]\n",
        "print(f\"카테고리 부여 잘못된 데이터 제거 후 남은 데이터 개수: {df.shape[0]}\")"
      ]
    },
    {
      "cell_type": "code",
      "execution_count": 10,
      "metadata": {},
      "outputs": [
        {
          "data": {
            "text/html": [
              "<div>\n",
              "<style scoped>\n",
              "    .dataframe tbody tr th:only-of-type {\n",
              "        vertical-align: middle;\n",
              "    }\n",
              "\n",
              "    .dataframe tbody tr th {\n",
              "        vertical-align: top;\n",
              "    }\n",
              "\n",
              "    .dataframe thead th {\n",
              "        text-align: right;\n",
              "    }\n",
              "</style>\n",
              "<table border=\"1\" class=\"dataframe\">\n",
              "  <thead>\n",
              "    <tr style=\"text-align: right;\">\n",
              "      <th></th>\n",
              "      <th>review</th>\n",
              "      <th>topic</th>\n",
              "      <th>embedding</th>\n",
              "      <th>y</th>\n",
              "    </tr>\n",
              "  </thead>\n",
              "  <tbody>\n",
              "    <tr>\n",
              "      <th>0</th>\n",
              "      <td>수업 운영이 주먹구구식입니다.</td>\n",
              "      <td>교수님 강의스타일 및 강의력</td>\n",
              "      <td>[-7.87042439e-01  7.31145322e-01  1.95688337e-...</td>\n",
              "      <td>5</td>\n",
              "    </tr>\n",
              "    <tr>\n",
              "      <th>1</th>\n",
              "      <td>중요 과제 공지도 사흘 전에 기말 과제가 계획에 있다가도 사라지고 강의도 머신러닝 ...</td>\n",
              "      <td>로드</td>\n",
              "      <td>[-3.72840673e-01  2.14865059e-01 -3.87998261e-...</td>\n",
              "      <td>0</td>\n",
              "    </tr>\n",
              "    <tr>\n",
              "      <th>2</th>\n",
              "      <td>본인이 따로 알아보고 찾아봐야 이해에 도움이 될 겁니다.</td>\n",
              "      <td>로드</td>\n",
              "      <td>[ 1.97239473e-01 -7.09244251e-01 -1.92977898e-...</td>\n",
              "      <td>0</td>\n",
              "    </tr>\n",
              "    <tr>\n",
              "      <th>3</th>\n",
              "      <td>다만 교수님은 좋으십니다.</td>\n",
              "      <td>교수님 강의스타일 및 강의력</td>\n",
              "      <td>[-6.28514886e-01  4.23117168e-02 -7.64399171e-...</td>\n",
              "      <td>5</td>\n",
              "    </tr>\n",
              "    <tr>\n",
              "      <th>4</th>\n",
              "      <td>무난합니딘, 성적도 잘 주는 것 같아요.</td>\n",
              "      <td>학점</td>\n",
              "      <td>[-2.25575939e-01 -8.20995346e-02 -3.75468403e-...</td>\n",
              "      <td>4</td>\n",
              "    </tr>\n",
              "  </tbody>\n",
              "</table>\n",
              "</div>"
            ],
            "text/plain": [
              "                                              review            topic  \\\n",
              "0                                   수업 운영이 주먹구구식입니다.  교수님 강의스타일 및 강의력   \n",
              "1  중요 과제 공지도 사흘 전에 기말 과제가 계획에 있다가도 사라지고 강의도 머신러닝 ...               로드   \n",
              "2                    본인이 따로 알아보고 찾아봐야 이해에 도움이 될 겁니다.               로드   \n",
              "3                                     다만 교수님은 좋으십니다.  교수님 강의스타일 및 강의력   \n",
              "4                             무난합니딘, 성적도 잘 주는 것 같아요.               학점   \n",
              "\n",
              "                                           embedding  y  \n",
              "0  [-7.87042439e-01  7.31145322e-01  1.95688337e-...  5  \n",
              "1  [-3.72840673e-01  2.14865059e-01 -3.87998261e-...  0  \n",
              "2  [ 1.97239473e-01 -7.09244251e-01 -1.92977898e-...  0  \n",
              "3  [-6.28514886e-01  4.23117168e-02 -7.64399171e-...  5  \n",
              "4  [-2.25575939e-01 -8.20995346e-02 -3.75468403e-...  4  "
            ]
          },
          "execution_count": 10,
          "metadata": {},
          "output_type": "execute_result"
        }
      ],
      "source": [
        "# 모델을 위한 정수 레이블 생성\n",
        "\n",
        "mapping = {\n",
        "    '로드': 0,\n",
        "    '수업 내용': 1,\n",
        "    '시험 출제 스타일': 2,\n",
        "    '해당 사항 없음': 3,\n",
        "    '학점': 4,\n",
        "    '교수님 강의스타일 및 강의력': 5\n",
        "}\n",
        "\n",
        "df['y'] = df['topic'].map(mapping)\n",
        "df.head()"
      ]
    },
    {
      "cell_type": "code",
      "execution_count": 11,
      "metadata": {},
      "outputs": [
        {
          "name": "stdout",
          "output_type": "stream",
          "text": [
            "중복 제거 후 남은 데이터 개수: 4131\n"
          ]
        }
      ],
      "source": [
        "df.drop_duplicates(['review'], inplace=True)\n",
        "print(f\"중복 제거 후 남은 데이터 개수: {df.shape[0]}\")"
      ]
    },
    {
      "cell_type": "code",
      "execution_count": 12,
      "metadata": {},
      "outputs": [],
      "source": [
        "df.to_csv(\"/Users/jieunpark/Desktop/25th-project-EverytimeAnalyzer/ds/topic_modeling/src/data/dataset.csv\", index=False)"
      ]
    },
    {
      "cell_type": "code",
      "execution_count": 13,
      "metadata": {},
      "outputs": [
        {
          "data": {
            "text/plain": [
              "topic\n",
              "해당 사항 없음           1123\n",
              "로드                 1030\n",
              "교수님 강의스타일 및 강의력     952\n",
              "학점                  872\n",
              "시험 출제 스타일           619\n",
              "수업 내용               373\n",
              "Name: count, dtype: int64"
            ]
          },
          "execution_count": 13,
          "metadata": {},
          "output_type": "execute_result"
        }
      ],
      "source": [
        "df['topic'].value_counts()"
      ]
    },
    {
      "cell_type": "markdown",
      "metadata": {},
      "source": [
        "### 전체 데이터 전처리"
      ]
    },
    {
      "cell_type": "code",
      "execution_count": 2,
      "metadata": {},
      "outputs": [
        {
          "data": {
            "text/html": [
              "<div>\n",
              "<style scoped>\n",
              "    .dataframe tbody tr th:only-of-type {\n",
              "        vertical-align: middle;\n",
              "    }\n",
              "\n",
              "    .dataframe tbody tr th {\n",
              "        vertical-align: top;\n",
              "    }\n",
              "\n",
              "    .dataframe thead th {\n",
              "        text-align: right;\n",
              "    }\n",
              "</style>\n",
              "<table border=\"1\" class=\"dataframe\">\n",
              "  <thead>\n",
              "    <tr style=\"text-align: right;\">\n",
              "      <th></th>\n",
              "      <th>lectureCode</th>\n",
              "      <th>content</th>\n",
              "      <th>content_split</th>\n",
              "      <th>content_normalized</th>\n",
              "    </tr>\n",
              "  </thead>\n",
              "  <tbody>\n",
              "    <tr>\n",
              "      <th>0</th>\n",
              "      <td>AAI2250-01-00</td>\n",
              "      <td>수업 운영이 주먹구구식입니다. 중요 과제 공지도 사흘 전에 기말 과제가 계획에 있다...</td>\n",
              "      <td>[수업 운영이 주먹구구식입니다., 중요 과제 공지도 사흘 전에 기말 과제가 계획에 ...</td>\n",
              "      <td>[수업 운영이 주먹구구식입니다., 중요 과제 공지도 사흘 전에 기말 과제가 계획에 ...</td>\n",
              "    </tr>\n",
              "    <tr>\n",
              "      <th>1</th>\n",
              "      <td>AAI3210-01-00</td>\n",
              "      <td>흠...전전에서 학부생 때 들은만큼 수업 퀄리티가 좋을 것이라 교수님이 자부하셨지만...</td>\n",
              "      <td>[흠...전전에서 학부생 때 들은만큼 수업 퀄리티가 좋을 것이라 교수님이 자부하셨지...</td>\n",
              "      <td>[흠... 전 전에서 학부생 때 들은 만큼 수업 퀄리티가 좋을 것이라 교수님이 자부...</td>\n",
              "    </tr>\n",
              "    <tr>\n",
              "      <th>2</th>\n",
              "      <td>AAI4101-01-00</td>\n",
              "      <td>걍 대충대충임,.. 과제도 본인이 채점하기 귀찮으셨는지 캐글 대회 시키고 상위 10...</td>\n",
              "      <td>[걍 대충대충임,.., 과제도 본인이 채점하기 귀찮으셨는지 캐글 대회 시키고 상위 ...</td>\n",
              "      <td>[그냥 대충대충임,.., 과제도 본인이 채점하기 귀찮으셨는지 캐슬 대회 시키고 상위...</td>\n",
              "    </tr>\n",
              "    <tr>\n",
              "      <th>3</th>\n",
              "      <td>AIC2120-01-00</td>\n",
              "      <td>본인이 노력만 한다면 무조건 A+ 받아갈 수 있는 꿀강! 수업도 예시를 많이 넣으셔...</td>\n",
              "      <td>[본인이 노력만 한다면 무조건 A+ 받아갈 수 있는 꿀강!, 수업도 예시를 많이 넣...</td>\n",
              "      <td>[본인이 노력만 한다면 무조건 A 받아 갈 수 있는 꾸러 강!, 수업도 예시를 많이...</td>\n",
              "    </tr>\n",
              "    <tr>\n",
              "      <th>4</th>\n",
              "      <td>AIC2130-01-00</td>\n",
              "      <td>알고리즘 복습을 위해 수강했는데 설명도 잘해주시고 좋았습니다. 다만 비전공자가 듣기...</td>\n",
              "      <td>[알고리즘 복습을 위해 수강했는데 설명도 잘해주시고 좋았습니다., 다만 비전공자가 ...</td>\n",
              "      <td>[알고리즘 복습을 위해 수강했는데 설명도 잘해주시고 좋았습니다., 다만 비전공자가 ...</td>\n",
              "    </tr>\n",
              "  </tbody>\n",
              "</table>\n",
              "</div>"
            ],
            "text/plain": [
              "     lectureCode                                            content  \\\n",
              "0  AAI2250-01-00  수업 운영이 주먹구구식입니다. 중요 과제 공지도 사흘 전에 기말 과제가 계획에 있다...   \n",
              "1  AAI3210-01-00  흠...전전에서 학부생 때 들은만큼 수업 퀄리티가 좋을 것이라 교수님이 자부하셨지만...   \n",
              "2  AAI4101-01-00  걍 대충대충임,.. 과제도 본인이 채점하기 귀찮으셨는지 캐글 대회 시키고 상위 10...   \n",
              "3  AIC2120-01-00  본인이 노력만 한다면 무조건 A+ 받아갈 수 있는 꿀강! 수업도 예시를 많이 넣으셔...   \n",
              "4  AIC2130-01-00  알고리즘 복습을 위해 수강했는데 설명도 잘해주시고 좋았습니다. 다만 비전공자가 듣기...   \n",
              "\n",
              "                                       content_split  \\\n",
              "0  [수업 운영이 주먹구구식입니다., 중요 과제 공지도 사흘 전에 기말 과제가 계획에 ...   \n",
              "1  [흠...전전에서 학부생 때 들은만큼 수업 퀄리티가 좋을 것이라 교수님이 자부하셨지...   \n",
              "2  [걍 대충대충임,.., 과제도 본인이 채점하기 귀찮으셨는지 캐글 대회 시키고 상위 ...   \n",
              "3  [본인이 노력만 한다면 무조건 A+ 받아갈 수 있는 꿀강!, 수업도 예시를 많이 넣...   \n",
              "4  [알고리즘 복습을 위해 수강했는데 설명도 잘해주시고 좋았습니다., 다만 비전공자가 ...   \n",
              "\n",
              "                                  content_normalized  \n",
              "0  [수업 운영이 주먹구구식입니다., 중요 과제 공지도 사흘 전에 기말 과제가 계획에 ...  \n",
              "1  [흠... 전 전에서 학부생 때 들은 만큼 수업 퀄리티가 좋을 것이라 교수님이 자부...  \n",
              "2  [그냥 대충대충임,.., 과제도 본인이 채점하기 귀찮으셨는지 캐슬 대회 시키고 상위...  \n",
              "3  [본인이 노력만 한다면 무조건 A 받아 갈 수 있는 꾸러 강!, 수업도 예시를 많이...  \n",
              "4  [알고리즘 복습을 위해 수강했는데 설명도 잘해주시고 좋았습니다., 다만 비전공자가 ...  "
            ]
          },
          "execution_count": 2,
          "metadata": {},
          "output_type": "execute_result"
        }
      ],
      "source": [
        "import pandas as pd\n",
        "\n",
        "full_df = pd.read_json(\"/Users/jieunpark/Desktop/25th-project-EverytimeAnalyzer/ds/data/processed.json\")\n",
        "full_df.head()"
      ]
    },
    {
      "cell_type": "code",
      "execution_count": 3,
      "metadata": {},
      "outputs": [
        {
          "data": {
            "text/plain": [
              "743"
            ]
          },
          "execution_count": 3,
          "metadata": {},
          "output_type": "execute_result"
        }
      ],
      "source": [
        "len(full_df)"
      ]
    },
    {
      "cell_type": "code",
      "execution_count": 6,
      "metadata": {},
      "outputs": [],
      "source": [
        "full_df_expanded = full_df.explode(['content_split', 'content_normalized']).reset_index(drop=True)\n",
        "full_df_expanded = full_df_expanded[['lectureCode', 'content_split', 'content_normalized']]"
      ]
    },
    {
      "cell_type": "code",
      "execution_count": 8,
      "metadata": {},
      "outputs": [],
      "source": [
        "full_df_expanded.to_csv(\"/Users/jieunpark/Desktop/25th-project-EverytimeAnalyzer/ds/topic_modeling/src/data/reviews.csv\", index=False)"
      ]
    },
    {
      "cell_type": "markdown",
      "metadata": {},
      "source": [
        "### 토픽 한글로"
      ]
    },
    {
      "cell_type": "code",
      "execution_count": 3,
      "metadata": {},
      "outputs": [
        {
          "data": {
            "text/html": [
              "<div>\n",
              "<style scoped>\n",
              "    .dataframe tbody tr th:only-of-type {\n",
              "        vertical-align: middle;\n",
              "    }\n",
              "\n",
              "    .dataframe tbody tr th {\n",
              "        vertical-align: top;\n",
              "    }\n",
              "\n",
              "    .dataframe thead th {\n",
              "        text-align: right;\n",
              "    }\n",
              "</style>\n",
              "<table border=\"1\" class=\"dataframe\">\n",
              "  <thead>\n",
              "    <tr style=\"text-align: right;\">\n",
              "      <th></th>\n",
              "      <th>lectureCode</th>\n",
              "      <th>content_split</th>\n",
              "      <th>text</th>\n",
              "      <th>target</th>\n",
              "    </tr>\n",
              "  </thead>\n",
              "  <tbody>\n",
              "    <tr>\n",
              "      <th>0</th>\n",
              "      <td>AAI2250-01-00</td>\n",
              "      <td>수업 운영이 주먹구구식입니다.</td>\n",
              "      <td>수업 운영이 주먹구구식입니다.</td>\n",
              "      <td>5</td>\n",
              "    </tr>\n",
              "    <tr>\n",
              "      <th>1</th>\n",
              "      <td>AAI2250-01-00</td>\n",
              "      <td>중요 과제 공지도 사흘 전에 기말 과제가 계획에 있다가도 사라지고 강의도 머신러닝 ...</td>\n",
              "      <td>중요 과제 공지도 사흘 전에 기말 과제가 계획에 있다가도 사라지고 강의도 머신러닝 ...</td>\n",
              "      <td>0</td>\n",
              "    </tr>\n",
              "    <tr>\n",
              "      <th>2</th>\n",
              "      <td>AAI2250-01-00</td>\n",
              "      <td>본인이 따로 알아보고 찾아봐야 이해에 도움이 될 겁니다.</td>\n",
              "      <td>본인이 따로 알아보고 찾아봐야 이해에 도움이 될 겁니다.</td>\n",
              "      <td>3</td>\n",
              "    </tr>\n",
              "    <tr>\n",
              "      <th>3</th>\n",
              "      <td>AAI2250-01-00</td>\n",
              "      <td>다만 교수님은 좋으십니다.</td>\n",
              "      <td>다만 교수님은 좋으십니다.</td>\n",
              "      <td>5</td>\n",
              "    </tr>\n",
              "    <tr>\n",
              "      <th>4</th>\n",
              "      <td>AAI2250-01-00</td>\n",
              "      <td>무난합니딘, 성적도 잘 주는 것 같아요.</td>\n",
              "      <td>무난합니딘, 성적도 잘 주는 것 같아요.</td>\n",
              "      <td>4</td>\n",
              "    </tr>\n",
              "    <tr>\n",
              "      <th>...</th>\n",
              "      <td>...</td>\n",
              "      <td>...</td>\n",
              "      <td>...</td>\n",
              "      <td>...</td>\n",
              "    </tr>\n",
              "    <tr>\n",
              "      <th>70669</th>\n",
              "      <td>YCL1998-01-00</td>\n",
              "      <td>학점이 나와봐야 알겠지만... 생각보다 과제가 좀 짜증난다.</td>\n",
              "      <td>학점이 나와봐야 알겠지만... 생각보다 과제가 좀 짜증 난다.</td>\n",
              "      <td>4</td>\n",
              "    </tr>\n",
              "    <tr>\n",
              "      <th>70670</th>\n",
              "      <td>YCL1998-01-00</td>\n",
              "      <td>강의를 꼭 들을 필욘 없지만 매주 나오는 과제량이 난이도는 높지않지만 시간이 좀 걸...</td>\n",
              "      <td>강의를 꼭 들을 필욘 없지만 매주 나오는 과제량이 난도는 높지 않지만 시간이 좀 걸...</td>\n",
              "      <td>0</td>\n",
              "    </tr>\n",
              "    <tr>\n",
              "      <th>70671</th>\n",
              "      <td>YCL1998-01-00</td>\n",
              "      <td>다만 내기만 한다면 학점은 잘 주시는 듯.</td>\n",
              "      <td>다만 내기만 한다면 학점은 잘 주시는 듯.</td>\n",
              "      <td>4</td>\n",
              "    </tr>\n",
              "    <tr>\n",
              "      <th>70672</th>\n",
              "      <td>YCL1998-01-00</td>\n",
              "      <td>현장견학을 한 번 가는데 그게 가장 재밌었던 수업.</td>\n",
              "      <td>현장견학을 한 번 가는데 그게 가장 재밌었던 수업.</td>\n",
              "      <td>0</td>\n",
              "    </tr>\n",
              "    <tr>\n",
              "      <th>70673</th>\n",
              "      <td>YCL1998-01-00</td>\n",
              "      <td>시험 안 보는 게 메리트.</td>\n",
              "      <td>시험 안 보는 게 메리트.</td>\n",
              "      <td>2</td>\n",
              "    </tr>\n",
              "  </tbody>\n",
              "</table>\n",
              "<p>70674 rows × 4 columns</p>\n",
              "</div>"
            ],
            "text/plain": [
              "         lectureCode                                      content_split  \\\n",
              "0      AAI2250-01-00                                   수업 운영이 주먹구구식입니다.   \n",
              "1      AAI2250-01-00  중요 과제 공지도 사흘 전에 기말 과제가 계획에 있다가도 사라지고 강의도 머신러닝 ...   \n",
              "2      AAI2250-01-00                    본인이 따로 알아보고 찾아봐야 이해에 도움이 될 겁니다.   \n",
              "3      AAI2250-01-00                                     다만 교수님은 좋으십니다.   \n",
              "4      AAI2250-01-00                             무난합니딘, 성적도 잘 주는 것 같아요.   \n",
              "...              ...                                                ...   \n",
              "70669  YCL1998-01-00                  학점이 나와봐야 알겠지만... 생각보다 과제가 좀 짜증난다.   \n",
              "70670  YCL1998-01-00  강의를 꼭 들을 필욘 없지만 매주 나오는 과제량이 난이도는 높지않지만 시간이 좀 걸...   \n",
              "70671  YCL1998-01-00                            다만 내기만 한다면 학점은 잘 주시는 듯.   \n",
              "70672  YCL1998-01-00                       현장견학을 한 번 가는데 그게 가장 재밌었던 수업.   \n",
              "70673  YCL1998-01-00                                     시험 안 보는 게 메리트.   \n",
              "\n",
              "                                                    text  target  \n",
              "0                                       수업 운영이 주먹구구식입니다.       5  \n",
              "1      중요 과제 공지도 사흘 전에 기말 과제가 계획에 있다가도 사라지고 강의도 머신러닝 ...       0  \n",
              "2                        본인이 따로 알아보고 찾아봐야 이해에 도움이 될 겁니다.       3  \n",
              "3                                         다만 교수님은 좋으십니다.       5  \n",
              "4                                 무난합니딘, 성적도 잘 주는 것 같아요.       4  \n",
              "...                                                  ...     ...  \n",
              "70669                 학점이 나와봐야 알겠지만... 생각보다 과제가 좀 짜증 난다.       4  \n",
              "70670  강의를 꼭 들을 필욘 없지만 매주 나오는 과제량이 난도는 높지 않지만 시간이 좀 걸...       0  \n",
              "70671                            다만 내기만 한다면 학점은 잘 주시는 듯.       4  \n",
              "70672                       현장견학을 한 번 가는데 그게 가장 재밌었던 수업.       0  \n",
              "70673                                     시험 안 보는 게 메리트.       2  \n",
              "\n",
              "[70674 rows x 4 columns]"
            ]
          },
          "execution_count": 3,
          "metadata": {},
          "output_type": "execute_result"
        }
      ],
      "source": [
        "topic_path = \"/Users/jieunpark/Desktop/25th-project-EverytimeAnalyzer/ds/topic_modeling/src/prediction/prediction.csv\"\n",
        "df = pd.read_csv(topic_path)\n",
        "df"
      ]
    },
    {
      "cell_type": "code",
      "execution_count": 4,
      "metadata": {},
      "outputs": [
        {
          "data": {
            "text/html": [
              "<div>\n",
              "<style scoped>\n",
              "    .dataframe tbody tr th:only-of-type {\n",
              "        vertical-align: middle;\n",
              "    }\n",
              "\n",
              "    .dataframe tbody tr th {\n",
              "        vertical-align: top;\n",
              "    }\n",
              "\n",
              "    .dataframe thead th {\n",
              "        text-align: right;\n",
              "    }\n",
              "</style>\n",
              "<table border=\"1\" class=\"dataframe\">\n",
              "  <thead>\n",
              "    <tr style=\"text-align: right;\">\n",
              "      <th></th>\n",
              "      <th>lectureCode</th>\n",
              "      <th>content_split</th>\n",
              "      <th>text</th>\n",
              "      <th>target</th>\n",
              "      <th>topic</th>\n",
              "    </tr>\n",
              "  </thead>\n",
              "  <tbody>\n",
              "    <tr>\n",
              "      <th>0</th>\n",
              "      <td>AAI2250-01-00</td>\n",
              "      <td>수업 운영이 주먹구구식입니다.</td>\n",
              "      <td>수업 운영이 주먹구구식입니다.</td>\n",
              "      <td>5</td>\n",
              "      <td>교수님 강의스타일 및 강의력</td>\n",
              "    </tr>\n",
              "    <tr>\n",
              "      <th>1</th>\n",
              "      <td>AAI2250-01-00</td>\n",
              "      <td>중요 과제 공지도 사흘 전에 기말 과제가 계획에 있다가도 사라지고 강의도 머신러닝 ...</td>\n",
              "      <td>중요 과제 공지도 사흘 전에 기말 과제가 계획에 있다가도 사라지고 강의도 머신러닝 ...</td>\n",
              "      <td>0</td>\n",
              "      <td>로드</td>\n",
              "    </tr>\n",
              "    <tr>\n",
              "      <th>2</th>\n",
              "      <td>AAI2250-01-00</td>\n",
              "      <td>본인이 따로 알아보고 찾아봐야 이해에 도움이 될 겁니다.</td>\n",
              "      <td>본인이 따로 알아보고 찾아봐야 이해에 도움이 될 겁니다.</td>\n",
              "      <td>3</td>\n",
              "      <td>해당 사항 없음</td>\n",
              "    </tr>\n",
              "    <tr>\n",
              "      <th>3</th>\n",
              "      <td>AAI2250-01-00</td>\n",
              "      <td>다만 교수님은 좋으십니다.</td>\n",
              "      <td>다만 교수님은 좋으십니다.</td>\n",
              "      <td>5</td>\n",
              "      <td>교수님 강의스타일 및 강의력</td>\n",
              "    </tr>\n",
              "    <tr>\n",
              "      <th>4</th>\n",
              "      <td>AAI2250-01-00</td>\n",
              "      <td>무난합니딘, 성적도 잘 주는 것 같아요.</td>\n",
              "      <td>무난합니딘, 성적도 잘 주는 것 같아요.</td>\n",
              "      <td>4</td>\n",
              "      <td>학점</td>\n",
              "    </tr>\n",
              "  </tbody>\n",
              "</table>\n",
              "</div>"
            ],
            "text/plain": [
              "     lectureCode                                      content_split  \\\n",
              "0  AAI2250-01-00                                   수업 운영이 주먹구구식입니다.   \n",
              "1  AAI2250-01-00  중요 과제 공지도 사흘 전에 기말 과제가 계획에 있다가도 사라지고 강의도 머신러닝 ...   \n",
              "2  AAI2250-01-00                    본인이 따로 알아보고 찾아봐야 이해에 도움이 될 겁니다.   \n",
              "3  AAI2250-01-00                                     다만 교수님은 좋으십니다.   \n",
              "4  AAI2250-01-00                             무난합니딘, 성적도 잘 주는 것 같아요.   \n",
              "\n",
              "                                                text  target            topic  \n",
              "0                                   수업 운영이 주먹구구식입니다.       5  교수님 강의스타일 및 강의력  \n",
              "1  중요 과제 공지도 사흘 전에 기말 과제가 계획에 있다가도 사라지고 강의도 머신러닝 ...       0               로드  \n",
              "2                    본인이 따로 알아보고 찾아봐야 이해에 도움이 될 겁니다.       3         해당 사항 없음  \n",
              "3                                     다만 교수님은 좋으십니다.       5  교수님 강의스타일 및 강의력  \n",
              "4                             무난합니딘, 성적도 잘 주는 것 같아요.       4               학점  "
            ]
          },
          "execution_count": 4,
          "metadata": {},
          "output_type": "execute_result"
        }
      ],
      "source": [
        "mapping = {\n",
        "    0: '로드',\n",
        "    1: '수업 내용',\n",
        "    2: '시험 출제 스타일',\n",
        "    3: '해당 사항 없음',\n",
        "    4: '학점',\n",
        "    5: '교수님 강의스타일 및 강의력'\n",
        "}\n",
        "\n",
        "df['topic'] = df['target'].map(mapping)\n",
        "df.head()"
      ]
    },
    {
      "cell_type": "code",
      "execution_count": 5,
      "metadata": {},
      "outputs": [],
      "source": [
        "df = df[['lectureCode', 'content_split', 'text', 'topic']]\n",
        "df.columns = ['lectureCode', 'content_split', 'content_normalized', 'topic']"
      ]
    },
    {
      "cell_type": "code",
      "execution_count": 8,
      "metadata": {},
      "outputs": [],
      "source": [
        "df.to_csv(\"/Users/jieunpark/Desktop/25th-project-EverytimeAnalyzer/ds/topic_modeling/src/prediction/prediction.csv\", index=False)"
      ]
    },
    {
      "cell_type": "code",
      "execution_count": null,
      "metadata": {},
      "outputs": [],
      "source": []
    }
  ],
  "metadata": {
    "accelerator": "GPU",
    "colab": {
      "gpuType": "A100",
      "provenance": [],
      "toc_visible": true
    },
    "kernelspec": {
      "display_name": "Python 3",
      "name": "python3"
    },
    "language_info": {
      "codemirror_mode": {
        "name": "ipython",
        "version": 3
      },
      "file_extension": ".py",
      "mimetype": "text/x-python",
      "name": "python",
      "nbconvert_exporter": "python",
      "pygments_lexer": "ipython3",
      "version": "3.11.9"
    }
  },
  "nbformat": 4,
  "nbformat_minor": 0
}
