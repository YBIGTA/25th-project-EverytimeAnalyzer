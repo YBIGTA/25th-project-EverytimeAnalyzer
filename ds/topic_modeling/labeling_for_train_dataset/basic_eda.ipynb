{
 "cells": [
  {
   "cell_type": "markdown",
   "metadata": {},
   "source": [
    "### 모델 학습용 데이터 생성을 위한 강의평 데이터 문장 길이 확인"
   ]
  },
  {
   "cell_type": "code",
   "execution_count": 1,
   "metadata": {},
   "outputs": [],
   "source": [
    "import pandas as pd\n",
    "import matplotlib.pyplot as plt"
   ]
  },
  {
   "cell_type": "code",
   "execution_count": 2,
   "metadata": {},
   "outputs": [
    {
     "data": {
      "text/html": [
       "<div>\n",
       "<style scoped>\n",
       "    .dataframe tbody tr th:only-of-type {\n",
       "        vertical-align: middle;\n",
       "    }\n",
       "\n",
       "    .dataframe tbody tr th {\n",
       "        vertical-align: top;\n",
       "    }\n",
       "\n",
       "    .dataframe thead th {\n",
       "        text-align: right;\n",
       "    }\n",
       "</style>\n",
       "<table border=\"1\" class=\"dataframe\">\n",
       "  <thead>\n",
       "    <tr style=\"text-align: right;\">\n",
       "      <th></th>\n",
       "      <th>lectureCode</th>\n",
       "      <th>sentence</th>\n",
       "      <th>sentence_normalized</th>\n",
       "      <th>embedding</th>\n",
       "    </tr>\n",
       "  </thead>\n",
       "  <tbody>\n",
       "    <tr>\n",
       "      <th>0</th>\n",
       "      <td>AAI2250-01-00</td>\n",
       "      <td>수업 운영이 주먹구구식입니다.</td>\n",
       "      <td>수업 운영이 주먹구구식입니다.</td>\n",
       "      <td>[-0.787041664123535, 0.731144726276397, 0.1956...</td>\n",
       "    </tr>\n",
       "    <tr>\n",
       "      <th>1</th>\n",
       "      <td>AAI2250-01-00</td>\n",
       "      <td>중요 과제 공지도 사흘 전에 기말 과제가 계획에 있다가도 사라지고 강의도 머신러닝 ...</td>\n",
       "      <td>중요 과제 공지도 사흘 전에 기말 과제가 계획에 있다가도 사라지고 강의도 머신러닝 ...</td>\n",
       "      <td>[-0.37284067273139904, 0.21486483514308902, -0...</td>\n",
       "    </tr>\n",
       "    <tr>\n",
       "      <th>2</th>\n",
       "      <td>AAI2250-01-00</td>\n",
       "      <td>본인이 따로 알아보고 찾아봐야 이해에 도움이 될 겁니다.</td>\n",
       "      <td>본인이 따로 알아보고 찾아봐야 이해에 도움이 될 겁니다.</td>\n",
       "      <td>[0.19723932445049203, -0.70924425125122, -0.01...</td>\n",
       "    </tr>\n",
       "    <tr>\n",
       "      <th>3</th>\n",
       "      <td>AAI2250-01-00</td>\n",
       "      <td>다만 교수님은 좋으십니다.</td>\n",
       "      <td>다만 교수님은 좋으십니다.</td>\n",
       "      <td>[-0.628514647483825, 0.042312327772378006, -0....</td>\n",
       "    </tr>\n",
       "    <tr>\n",
       "      <th>4</th>\n",
       "      <td>AAI2250-01-00</td>\n",
       "      <td>무난합니딘, 성적도 잘 주는 것 같아요.</td>\n",
       "      <td>무난합니딘, 성적도 잘 주는 것 같아요.</td>\n",
       "      <td>[-0.22557583451271002, -0.082099236547946, -0....</td>\n",
       "    </tr>\n",
       "  </tbody>\n",
       "</table>\n",
       "</div>"
      ],
      "text/plain": [
       "     lectureCode                                           sentence  \\\n",
       "0  AAI2250-01-00                                   수업 운영이 주먹구구식입니다.   \n",
       "1  AAI2250-01-00  중요 과제 공지도 사흘 전에 기말 과제가 계획에 있다가도 사라지고 강의도 머신러닝 ...   \n",
       "2  AAI2250-01-00                    본인이 따로 알아보고 찾아봐야 이해에 도움이 될 겁니다.   \n",
       "3  AAI2250-01-00                                     다만 교수님은 좋으십니다.   \n",
       "4  AAI2250-01-00                             무난합니딘, 성적도 잘 주는 것 같아요.   \n",
       "\n",
       "                                 sentence_normalized  \\\n",
       "0                                   수업 운영이 주먹구구식입니다.   \n",
       "1  중요 과제 공지도 사흘 전에 기말 과제가 계획에 있다가도 사라지고 강의도 머신러닝 ...   \n",
       "2                    본인이 따로 알아보고 찾아봐야 이해에 도움이 될 겁니다.   \n",
       "3                                     다만 교수님은 좋으십니다.   \n",
       "4                             무난합니딘, 성적도 잘 주는 것 같아요.   \n",
       "\n",
       "                                           embedding  \n",
       "0  [-0.787041664123535, 0.731144726276397, 0.1956...  \n",
       "1  [-0.37284067273139904, 0.21486483514308902, -0...  \n",
       "2  [0.19723932445049203, -0.70924425125122, -0.01...  \n",
       "3  [-0.628514647483825, 0.042312327772378006, -0....  \n",
       "4  [-0.22557583451271002, -0.082099236547946, -0....  "
      ]
     },
     "execution_count": 2,
     "metadata": {},
     "output_type": "execute_result"
    }
   ],
   "source": [
    "review_file_path = \"/Users/jieunpark/Desktop/25th-project-EverytimeAnalyzer/ds/data/embedding_formatted.json\"\n",
    "review_sentences = pd.read_json(review_file_path)\n",
    "review_sentences.head()"
   ]
  },
  {
   "cell_type": "code",
   "execution_count": 3,
   "metadata": {},
   "outputs": [
    {
     "name": "stdout",
     "output_type": "stream",
     "text": [
      "0.05     9.0\n",
      "0.10    13.0\n",
      "0.15    16.0\n",
      "0.20    18.0\n",
      "0.25    21.0\n",
      "0.30    24.0\n",
      "0.35    27.0\n",
      "0.40    29.0\n",
      "0.45    32.0\n",
      "0.50    35.0\n",
      "Name: sentence_length, dtype: float64\n"
     ]
    }
   ],
   "source": [
    "# 문장 길이 분포 확인\n",
    "review_sentences['sentence_length'] = review_sentences['sentence'].apply(len)\n",
    "percentiles = review_sentences['sentence_length'].quantile([i / 20 for i in range(1, 11)])\n",
    "print(percentiles)"
   ]
  },
  {
   "cell_type": "code",
   "execution_count": 4,
   "metadata": {},
   "outputs": [
    {
     "name": "stdout",
     "output_type": "stream",
     "text": [
      "문장 길이 하위 5%의 문장들을 제외하면 약 67140개의 문장이 남음\n"
     ]
    }
   ],
   "source": [
    "total_sentences = review_sentences.shape[0]\n",
    "print(f\"문장 길이 하위 5%의 문장들을 제외하면 약 {int(total_sentences * 0.95)}개의 문장이 남음\")"
   ]
  },
  {
   "cell_type": "code",
   "execution_count": 5,
   "metadata": {},
   "outputs": [
    {
     "name": "stdout",
     "output_type": "stream",
     "text": [
      "문장 길이가 10자 이하인 문장들을 제외하면 약 66011개의 문장이 남음\n"
     ]
    }
   ],
   "source": [
    "review_sentences = review_sentences[review_sentences['sentence'].apply(lambda x: len(x) > 10)]\n",
    "print(f\"문장 길이가 10자 이하인 문장들을 제외하면 약 {review_sentences.shape[0]}개의 문장이 남음\")"
   ]
  }
 ],
 "metadata": {
  "kernelspec": {
   "display_name": "ds-J7fYfd54",
   "language": "python",
   "name": "python3"
  },
  "language_info": {
   "codemirror_mode": {
    "name": "ipython",
    "version": 3
   },
   "file_extension": ".py",
   "mimetype": "text/x-python",
   "name": "python",
   "nbconvert_exporter": "python",
   "pygments_lexer": "ipython3",
   "version": "3.11.9"
  }
 },
 "nbformat": 4,
 "nbformat_minor": 2
}
